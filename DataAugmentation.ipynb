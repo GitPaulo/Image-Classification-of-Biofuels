{
 "cells": [
  {
   "cell_type": "markdown",
   "metadata": {},
   "source": [
    "## Data Preperation"
   ]
  },
  {
   "cell_type": "code",
   "execution_count": null,
   "metadata": {},
   "outputs": [],
   "source": [
    "import lib\n",
    "import time\n",
    "import numpy as np\n",
    "import imgaug as ia\n",
    "import tensorflow as tf\n",
    "import matplotlib as mp\n",
    "\n",
    "from matplotlib import pyplot as pp\n",
    "from tensorflow import keras as kr"
   ]
  },
  {
   "cell_type": "code",
   "execution_count": null,
   "metadata": {},
   "outputs": [],
   "source": [
    "# Do not run this file by itself, this variables must be defined\n",
    "# in the file importing this as they are implementation dependant\n",
    "try:\n",
    "    (REQUIRED_DIMENSIONS \n",
    "         or TRAIN_BATCH_SIZE \n",
    "         or VALIDATION_BATCH_SIZE \n",
    "         or TEST_BATCH_SIZE\n",
    "         or N_AUG_VS_TEST)\n",
    "except NameError:\n",
    "    raise Exception('One of the required global constants is missing.\\n -> Do not run this file by itself?')\n",
    "\n",
    "# Implementation idependent globals\n",
    "DATASET_ROOT      = './dataset/'\n",
    "TRAIN_FOLDER      = 'train'\n",
    "VALIDATION_FOLDER = 'validation'\n",
    "TEST_FOLDER       = 'test'"
   ]
  },
  {
   "cell_type": "code",
   "execution_count": null,
   "metadata": {},
   "outputs": [],
   "source": [
    "start_time = time.time()"
   ]
  },
  {
   "cell_type": "markdown",
   "metadata": {},
   "source": [
    "#### Custom Functions"
   ]
  },
  {
   "cell_type": "code",
   "execution_count": null,
   "metadata": {},
   "outputs": [],
   "source": [
    "# Sometimes(0.5, ...) applies the given augmenter in 50% of all cases,\n",
    "# e.g. Sometimes(0.5, GaussianBlur(0.3)) would blur roughly every second image.\n",
    "sometimes = lambda aug: ia.augmenters.Sometimes(0.5, aug)\n",
    "\n",
    "# Augment training set\n",
    "seq = ia.augmenters.Sequential([\n",
    "    # crop images from each side by 0 to 16px (randomly chosen)\n",
    "    ia.augmenters.Crop(px=(0, 16)),\n",
    "    # horizontally flip 50% of the images\n",
    "    ia.augmenters.Fliplr(0.5),\n",
    "    # vertically flip 20% of all image\n",
    "    ia.augmenters.Flipud(0.2),\n",
    "])\n",
    "\n",
    "def augment(img):\n",
    "    seq_det = seq.to_deterministic()\n",
    "    aug_image = seq_det.augment_image(img)\n",
    "\n",
    "    return aug_image"
   ]
  },
  {
   "cell_type": "code",
   "execution_count": null,
   "metadata": {},
   "outputs": [],
   "source": [
    "# Tool to display data set and its labels\n",
    "def plots(ims, figsize=(12,6), rows=1, interp=False, titles=None):\n",
    "\tif type(ims[0]) is np.ndarray:\n",
    "\t\tims = np.array(ims).astype(np.uint8)\n",
    "\t\tif (ims.shape[-1] != 3):\n",
    "\t\t\tims = ims.transpose((0,2,3,1))\n",
    "\tf = pp.figure(figsize=figsize)\n",
    "\tcols = len(ims)//rows if len(ims) % 2 == 0 else len(ims)//rows + 1\n",
    "\tfor i in range(len(ims)):\n",
    "\t\tsp = f.add_subplot(rows, cols, i+1)\n",
    "\t\tsp.axis('Off')\n",
    "\t\tif titles is not None:\n",
    "\t\t\tsp.set_title(titles[i], fontsize=16)\n",
    "\t\tpp.imshow(ims[i], interpolation=None if interp else 'none')"
   ]
  },
  {
   "cell_type": "code",
   "execution_count": null,
   "metadata": {},
   "outputs": [],
   "source": [
    "lib.log(\"Loaded custom functions.\")"
   ]
  },
  {
   "cell_type": "markdown",
   "metadata": {},
   "source": [
    "#### Load Existing Dataset & Perform Data Augmentation"
   ]
  },
  {
   "cell_type": "code",
   "execution_count": null,
   "metadata": {
    "scrolled": true
   },
   "outputs": [],
   "source": [
    "# Shortcut\n",
    "IDG = kr.preprocessing.image.ImageDataGenerator\n",
    "\n",
    "# No augmentation\n",
    "generator = IDG()\n",
    "\n",
    "# Augmentation\n",
    "agumented_generator = IDG(preprocessing_function=augment)\n",
    "\n",
    "lib.log(\"Loading regular data sets...\")\n",
    "\n",
    "# Iterator for training data set\n",
    "train_set = generator.flow_from_directory(\n",
    "    DATASET_ROOT + TRAIN_FOLDER, \n",
    "    target_size=REQUIRED_DIMENSIONS, \n",
    "    batch_size=TRAIN_BATCH_SIZE,\n",
    "    shuffle=False\n",
    ")\n",
    "\n",
    "# Iterator for validation data set\n",
    "validation_set = generator.flow_from_directory(\n",
    "    DATASET_ROOT + VALIDATION_FOLDER, \n",
    "    target_size=REQUIRED_DIMENSIONS, \n",
    "    batch_size=VALIDATION_BATCH_SIZE,\n",
    "    shuffle=False\n",
    ")\n",
    "\n",
    "# Iterator for test data set\n",
    "test_set = generator.flow_from_directory(\n",
    "    DATASET_ROOT + TEST_FOLDER, \n",
    "    target_size=REQUIRED_DIMENSIONS, \n",
    "    batch_size=TEST_BATCH_SIZE,\n",
    "    shuffle=False\n",
    ");\n",
    "\n",
    "lib.log(\"Loading augmented data sets...\")\n",
    "\n",
    "# Iterator for augmented training data set\n",
    "augmented_train_set = agumented_generator.flow_from_directory(\n",
    "    DATASET_ROOT + TRAIN_FOLDER, \n",
    "    target_size=REQUIRED_DIMENSIONS, \n",
    "    batch_size=TRAIN_BATCH_SIZE,\n",
    "    shuffle=False\n",
    ")"
   ]
  },
  {
   "cell_type": "code",
   "execution_count": null,
   "metadata": {},
   "outputs": [],
   "source": [
    "lib.log(\"Loaded existing dataset & performed data augmentation.\")"
   ]
  },
  {
   "cell_type": "markdown",
   "metadata": {},
   "source": [
    "#### Visualising augmented test set VS normal test set"
   ]
  },
  {
   "cell_type": "code",
   "execution_count": null,
   "metadata": {},
   "outputs": [],
   "source": [
    "lib.log(\"Displaying first \" + str(N_AUG_VS_TEST) + \" batches of the augmented_train_set VS train_set:\")\n",
    "\n",
    "for i in range(N_AUG_VS_TEST):\n",
    "    imgs, labels = next(augmented_train_set)\n",
    "    plots(imgs, titles=labels)\n",
    "\n",
    "for i in range(N_AUG_VS_TEST):\n",
    "    imgs, labels = next(train_set)\n",
    "    plots(imgs, titles=labels)"
   ]
  },
  {
   "cell_type": "code",
   "execution_count": null,
   "metadata": {},
   "outputs": [],
   "source": [
    "lib.log(\"Data Augmentation & Dataset loading completed!\\n\\tTime taken: \", time.time() - start_time)"
   ]
  }
 ],
 "metadata": {
  "kernelspec": {
   "display_name": "Python 3",
   "language": "python",
   "name": "python3"
  },
  "language_info": {
   "codemirror_mode": {
    "name": "ipython",
    "version": 3
   },
   "file_extension": ".py",
   "mimetype": "text/x-python",
   "name": "python",
   "nbconvert_exporter": "python",
   "pygments_lexer": "ipython3",
   "version": "3.7.5"
  }
 },
 "nbformat": 4,
 "nbformat_minor": 2
}
