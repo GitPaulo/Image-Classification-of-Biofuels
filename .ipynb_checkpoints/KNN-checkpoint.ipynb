{
 "cells": [
  {
   "cell_type": "markdown",
   "metadata": {},
   "source": [
    "## K Nearest Neighbours for ICB"
   ]
  },
  {
   "cell_type": "code",
   "execution_count": 1,
   "metadata": {},
   "outputs": [
    {
     "name": "stdout",
     "output_type": "stream",
     "text": [
      "[12:51:00] Library functions loaded.\n"
     ]
    }
   ],
   "source": [
    "import lib\n",
    "\n",
    "from sklearn.neighbors import KNeighborsClassifier\n",
    "from sklearn.model_selection import train_test_split"
   ]
  },
  {
   "cell_type": "code",
   "execution_count": 2,
   "metadata": {},
   "outputs": [
    {
     "name": "stdout",
     "output_type": "stream",
     "text": [
      "[12:51:05] Data preparation started.\n",
      "[12:51:05] Loaded custom functions.\n",
      "(SKIPPED) Found a non image file:  ./dataset/validation/non_biomass/metal282 - Shortcut.lnk\n",
      "[Non Augmented Images]\n",
      "\t - Number of images in total: 462\n",
      "\t - Raw pixels matrix: 67.91MB\n",
      "\t - Raw features matrix: 0.92MB\n",
      "[Augmented Images]\n",
      "\t - Number of images in total: 462\n",
      "\t - Raw pixels matrix: 67.91MB\n",
      "\t - Raw features matrix: 0.92MB\n",
      "[12:51:55] Loaded raw congregates of images, features and labels.\n",
      "[Non Augmented Generators]\n",
      "Found 248 images belonging to 2 classes.\n",
      "Found 144 images belonging to 2 classes.\n",
      "Found 70 images belonging to 2 classes.\n",
      "[Augmented Generators]\n",
      "Found 248 images belonging to 2 classes.\n",
      "Found 70 images belonging to 2 classes.\n",
      "Found 144 images belonging to 2 classes.\n",
      "[12:51:56] Loaded all generators.\n",
      "[12:51:56] Data preperation completed!\n",
      "Time taken: 50.85376000404358 seconds.\n"
     ]
    }
   ],
   "source": [
    "# Implementation Dependant Globals\n",
    "REQUIRED_DIMENSIONS = (224, 224)\n",
    "# These affect only the generators, we don't use those for KNN, we use the raw congregrates.\n",
    "TRAIN_BATCH_SIZE, VALIDATION_BATCH_SIZE, TEST_BATCH_SIZE, N_AUG_VS_TEST = 0, 0, 0, 0\n",
    "\n",
    "# Import dataset\n",
    "%run DataPreparation.ipynb "
   ]
  },
  {
   "cell_type": "markdown",
   "metadata": {},
   "source": [
    "#### Data Partitioning & KNN Model Fitting"
   ]
  },
  {
   "cell_type": "code",
   "execution_count": 3,
   "metadata": {},
   "outputs": [],
   "source": [
    "# We want to use both augmented dataset and non augmented\n",
    "# Thus, we join the image data and feature data.\n",
    "total_rawPixels, total_rawPixelLabels = lib.shuffleJoinRawDatasets(\n",
    "    rawPixels, Labels, \n",
    "    augmented_rawPixels, augmented_Labels\n",
    ")\n",
    "\n",
    "total_Features, total_featuresLabels = lib.shuffleJoinRawDatasets(\n",
    "    Features, Labels, \n",
    "    augmented_Features, augmented_Labels\n",
    ")"
   ]
  },
  {
   "cell_type": "code",
   "execution_count": 9,
   "metadata": {},
   "outputs": [],
   "source": [
    "# Partition the data into training and testing\n",
    "# 75% = training, 25% = testing\n",
    "TEST_SPLIT = 0.3\n",
    "SEED = 55\n",
    "\n",
    "(trainImages, testImages, trainImagesLabels, testImagesLabels) = train_test_split(\n",
    "    total_rawPixels, \n",
    "    total_rawPixelLabels, \n",
    "    test_size=TEST_SPLIT, \n",
    "    random_state=SEED\n",
    ")\n",
    "\n",
    "(trainFeatures, testFeatures, trainFeaturesLabels, testFeaturesLabels) = train_test_split(\n",
    "    total_Features, \n",
    "    total_featuresLabels, \n",
    "    test_size=TEST_SPLIT, \n",
    "    random_state=SEED\n",
    ")"
   ]
  },
  {
   "cell_type": "markdown",
   "metadata": {},
   "source": [
    "#### Raw Pixel: Model Fiting & Accuracy Test"
   ]
  },
  {
   "cell_type": "code",
   "execution_count": 10,
   "metadata": {},
   "outputs": [
    {
     "name": "stdout",
     "output_type": "stream",
     "text": [
      "Raw pixel accuracy: 67.63%\n"
     ]
    }
   ],
   "source": [
    "# Train and evaluate a k-NN classifer on the raw pixel intensities\n",
    "model = KNeighborsClassifier(\n",
    "    n_neighbors=1,\n",
    ")\n",
    "\n",
    "model.fit(trainImages, trainImagesLabels)\n",
    "\n",
    "acc = model.score(testImages, testImagesLabels)\n",
    "print(\"Raw pixel accuracy: {:.2f}%\".format(acc * 100))"
   ]
  },
  {
   "cell_type": "code",
   "execution_count": 11,
   "metadata": {},
   "outputs": [],
   "source": [
    "lib.saveTrainedModel(model, \"KNN\", \"knn_rawpixel_classifier\")"
   ]
  },
  {
   "cell_type": "markdown",
   "metadata": {},
   "source": [
    "#### Color Histogram: Model Fiting & Accuracy Test"
   ]
  },
  {
   "cell_type": "code",
   "execution_count": 12,
   "metadata": {},
   "outputs": [
    {
     "name": "stdout",
     "output_type": "stream",
     "text": [
      "Color histogram accuracy: 87.41%\n"
     ]
    }
   ],
   "source": [
    "# Train and evaluate a k-NN classifer on the histogram representations\n",
    "model = KNeighborsClassifier(\n",
    "    n_neighbors=1,\n",
    ")\n",
    "\n",
    "model.fit(trainFeatures, trainFeaturesLabels)\n",
    "\n",
    "acc = model.score(testFeatures, testFeaturesLabels)\n",
    "print(\"Color histogram accuracy: {:.2f}%\".format(acc * 100))"
   ]
  },
  {
   "cell_type": "code",
   "execution_count": 8,
   "metadata": {},
   "outputs": [],
   "source": [
    "lib.saveTrainedModel(model, \"KNN\", \"knn_histogram_classifier\")"
   ]
  }
 ],
 "metadata": {
  "kernelspec": {
   "display_name": "IBC",
   "language": "python",
   "name": "icb"
  },
  "language_info": {
   "codemirror_mode": {
    "name": "ipython",
    "version": 3
   },
   "file_extension": ".py",
   "mimetype": "text/x-python",
   "name": "python",
   "nbconvert_exporter": "python",
   "pygments_lexer": "ipython3",
   "version": "3.7.5"
  }
 },
 "nbformat": 4,
 "nbformat_minor": 2
}
