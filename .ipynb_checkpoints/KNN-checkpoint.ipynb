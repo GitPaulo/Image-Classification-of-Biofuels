{
 "cells": [
  {
   "cell_type": "markdown",
   "metadata": {},
   "source": [
    "## K Nearest Neighbours for ICB"
   ]
  },
  {
   "cell_type": "code",
   "execution_count": 7,
   "metadata": {},
   "outputs": [],
   "source": [
    "import lib\n",
    "from sklearn.neighbors import KNeighborsClassifier\n",
    "from sklearn.model_selection import train_test_split"
   ]
  },
  {
   "cell_type": "code",
   "execution_count": 8,
   "metadata": {},
   "outputs": [
    {
     "name": "stdout",
     "output_type": "stream",
     "text": [
      "[01:04:36] Loaded custom functions.\n",
      "(SKIPPED) Found a non image file:  ./dataset/validation/non_biomass/metal282 - Shortcut.lnk\n",
      "Number of images in total: 462\n",
      "Raw pixels matrix: 1.39MB\n",
      "Raw features matrix: 0.92MB\n",
      "[01:04:41] Finished loading congregate raw dataset of images, features and labels.\n",
      "[01:04:41] Loading regular data sets...\n",
      "Found 248 images belonging to 2 classes.\n",
      "Found 144 images belonging to 2 classes.\n",
      "Found 70 images belonging to 2 classes.\n",
      "[01:04:42] Loading augmented data sets...\n",
      "Found 248 images belonging to 2 classes.\n",
      "[01:04:42] Loaded existing dataset & performed data augmentation.\n",
      "[01:04:42] Displaying first 0 batches of the augmented_train_set VS train_set:\n",
      "[01:04:42] Data Augmentation & Dataset loading completed!\n",
      "\tTime taken:  5.896274089813232\n",
      "Important variables: rawImages, rawFeatures, rawLabels, test_set, train_set, validation_set and 'augument_' prefix versions\n"
     ]
    }
   ],
   "source": [
    "# Implementation Dependant Globals\n",
    "REQUIRED_DIMENSIONS = (224, 224)\n",
    "# These affect only the generators, we don't use those for KNN, we use the raw congregrates.\n",
    "TRAIN_BATCH_SIZE, VALIDATION_BATCH_SIZE, TEST_BATCH_SIZE, N_AUG_VS_TEST = 0, 0, 0, 0\n",
    "\n",
    "# Import dataset\n",
    "%run DataPreparation.ipynb "
   ]
  },
  {
   "cell_type": "markdown",
   "metadata": {},
   "source": [
    "### Data partitioning & KNN fitting"
   ]
  },
  {
   "cell_type": "code",
   "execution_count": 9,
   "metadata": {},
   "outputs": [],
   "source": [
    "# Partition the data into training and testing splits, using 75%\n",
    "# of the data for training and the remaining 25% for testing\n",
    "(trainRI, testRI, trainRL, testRL) = train_test_split(\n",
    "\trawImages, rawLabels, test_size=0.25, random_state=42)\n",
    "(trainFeat, testFeat, trainLabels, testLabels) = train_test_split(\n",
    "\trawFeatures, rawLabels, test_size=0.25, random_state=42)"
   ]
  },
  {
   "cell_type": "code",
   "execution_count": 10,
   "metadata": {},
   "outputs": [
    {
     "name": "stdout",
     "output_type": "stream",
     "text": [
      "Raw pixel accuracy: 71.55%\n"
     ]
    }
   ],
   "source": [
    "# Train and evaluate a k-NN classifer on the raw pixel intensities\n",
    "model = KNeighborsClassifier(\n",
    "    n_neighbors=1,\n",
    ")\n",
    "\n",
    "model.fit(trainRI, trainRL)\n",
    "\n",
    "acc = model.score(testRI, testRL)\n",
    "print(\"Raw pixel accuracy: {:.2f}%\".format(acc * 100))"
   ]
  },
  {
   "cell_type": "code",
   "execution_count": 11,
   "metadata": {},
   "outputs": [],
   "source": [
    "lib.saveTrainedModel(model, \"KNN\", \"knn_rawpixel_classifier\")"
   ]
  },
  {
   "cell_type": "code",
   "execution_count": 12,
   "metadata": {},
   "outputs": [
    {
     "name": "stdout",
     "output_type": "stream",
     "text": [
      "Histogram accuracy: 92.24%\n"
     ]
    }
   ],
   "source": [
    "# Train and evaluate a k-NN classifer on the histogram representations\n",
    "model = KNeighborsClassifier(\n",
    "    n_neighbors=1,\n",
    ")\n",
    "\n",
    "model.fit(trainFeat, trainLabels)\n",
    "\n",
    "acc = model.score(testFeat, testLabels)\n",
    "print(\"Histogram accuracy: {:.2f}%\".format(acc * 100))"
   ]
  },
  {
   "cell_type": "code",
   "execution_count": 13,
   "metadata": {},
   "outputs": [],
   "source": [
    "lib.saveTrainedModel(model, \"KNN\", \"knn_histogram_classifier\")"
   ]
  }
 ],
 "metadata": {
  "kernelspec": {
   "display_name": "IBC",
   "language": "python",
   "name": "icb"
  },
  "language_info": {
   "codemirror_mode": {
    "name": "ipython",
    "version": 3
   },
   "file_extension": ".py",
   "mimetype": "text/x-python",
   "name": "python",
   "nbconvert_exporter": "python",
   "pygments_lexer": "ipython3",
   "version": "3.7.5"
  }
 },
 "nbformat": 4,
 "nbformat_minor": 2
}
