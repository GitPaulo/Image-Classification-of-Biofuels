{
 "cells": [
  {
   "cell_type": "code",
   "execution_count": 4,
   "metadata": {},
   "outputs": [],
   "source": [
    "import numpy as np\n",
    "import tensorflow as tf\n",
    "import matplotlib as mp\n",
    "from matplotlib import pyplot as pp\n",
    "from tensorflow.keras.preprocessing import image as krpi"
   ]
  },
  {
   "cell_type": "code",
   "execution_count": 5,
   "metadata": {},
   "outputs": [],
   "source": [
    "DATASET_ROOT = './dataset/'\n",
    "TRAIN_FOLDER = 'train'\n",
    "VALIDATION_FOLDER = 'validation'\n",
    "TEST_FOLDER = 'test'"
   ]
  },
  {
   "cell_type": "markdown",
   "metadata": {},
   "source": [
    "#### Custom Functions"
   ]
  },
  {
   "cell_type": "code",
   "execution_count": 42,
   "metadata": {},
   "outputs": [],
   "source": [
    "def imageShift(img_path, axis=\"horizontal\", show=True):\n",
    "    # load the image\n",
    "    img = krpi.load_img(img_path)\n",
    "    # convert to numpy array\n",
    "    data = krpi.img_to_array(img)\n",
    "    # expand dimension to one sample\n",
    "    samples = np.expand_dims(data, 0)\n",
    "    # create image data augmentation generator\n",
    "    iq = krpi.ImageDataGenerator\n",
    "    datagen = iq(width_shift_range=[-200,200]) if axis == \"horizontal\" else iq(height_shift_range=0.5)\n",
    "    # prepare iterator\n",
    "    it = datagen.flow(samples, batch_size=1)\n",
    "    # just return iterator\n",
    "    if not show:\n",
    "        return it\n",
    "    # generate samples and plot\n",
    "    for i in range(9):\n",
    "        # define subplot\n",
    "        pp.subplot(330 + 1 + i)\n",
    "        # generate batch of images\n",
    "        batch = it.next()\n",
    "        # convert to unsigned integers for viewing\n",
    "        image = batch[0].astype('uint8')\n",
    "        # plot raw pixel data\n",
    "        pp.imshow(image)\n",
    "    # show the figure\n",
    "    pp.show()\n",
    "    # reset and return\n",
    "    it.reset()\n",
    "    return it"
   ]
  },
  {
   "cell_type": "markdown",
   "metadata": {},
   "source": [
    "#### Loading Data Set"
   ]
  },
  {
   "cell_type": "code",
   "execution_count": null,
   "metadata": {},
   "outputs": [],
   "source": [
    "IDG = krpi.ImageDataGenerator\n",
    "TR_IDG = IDG(rescale=1)\n",
    "VA_IDG = IDG(rescale=1)\n",
    "TE_IDG = IDG(rescale=1)\n",
    "\n",
    "# Generator for training data set\n",
    "train_set = TR_IDG.flow_from_directory(\n",
    "    DATASET_ROOT + TRAIN_FOLDER, \n",
    "    target_size=(224,224), \n",
    "    batch_size=10\n",
    ");\n",
    "\n",
    "# Generator for validation data set\n",
    "validation_set = VA_IDG.flow_from_directory(\n",
    "    DATASET_ROOT + VALIDATION_FOLDER, \n",
    "    target_size=(224,224), \n",
    "    batch_size=10\n",
    ");\n",
    "\n",
    "test_batch_size = 20\n",
    "\n",
    "# Generator for test data set\n",
    "test_set = TE_IDG.flow_from_directory(\n",
    "    DATASET_ROOT + TEST_FOLDER, \n",
    "    target_size=(224,224), \n",
    "    batch_size=test_batch_size\n",
    ");"
   ]
  }
 ],
 "metadata": {
  "kernelspec": {
   "display_name": "Python 3",
   "language": "python",
   "name": "python3"
  },
  "language_info": {
   "codemirror_mode": {
    "name": "ipython",
    "version": 3
   },
   "file_extension": ".py",
   "mimetype": "text/x-python",
   "name": "python",
   "nbconvert_exporter": "python",
   "pygments_lexer": "ipython3",
   "version": "3.7.5"
  }
 },
 "nbformat": 4,
 "nbformat_minor": 2
}
