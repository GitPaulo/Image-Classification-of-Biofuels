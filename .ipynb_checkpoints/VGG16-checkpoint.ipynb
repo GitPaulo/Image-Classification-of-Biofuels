{
 "cells": [
  {
   "cell_type": "markdown",
   "metadata": {},
   "source": [
    "## Fine Tuning of VGG16 for Biofuel Material Cassification"
   ]
  },
  {
   "cell_type": "code",
   "execution_count": 1,
   "metadata": {},
   "outputs": [
    {
     "name": "stdout",
     "output_type": "stream",
     "text": [
      "[23:01:56] Library functions loaded.\n"
     ]
    }
   ],
   "source": [
    "import lib\n",
    "import numpy as np\n",
    "import tensorflow as tf\n",
    "\n",
    "from matplotlib import pyplot as plt\n",
    "from tensorflow import keras as kr\n",
    "from tensorflow.keras.utils import Sequence\n",
    "from sklearn.metrics import confusion_matrix\n",
    "from sklearn.metrics import classification_report\n",
    "from sklearn.utils.multiclass import unique_labels\n",
    "import itertools\n",
    "\n",
    "%matplotlib inline"
   ]
  },
  {
   "cell_type": "code",
   "execution_count": 2,
   "metadata": {
    "scrolled": true
   },
   "outputs": [
    {
     "name": "stdout",
     "output_type": "stream",
     "text": [
      "[23:01:56] Data preparation started.\n",
      "[23:01:56] Loaded custom functions.\n",
      "(SKIPPED) Found a non image file:  ./dataset/validation/non_biomass/metal282 - Shortcut.lnk\n",
      "[Non Processed Classifier Input Data]\n",
      "Raw pixels matrix: 135.83MB\n",
      "Raw features matrix: 1.85MB\n",
      "[23:02:06] Loaded raw congregates of images, features and labels.\n",
      "[Non Augmented Generators]\n",
      "Found 248 images belonging to 2 classes.\n",
      "Found 144 images belonging to 2 classes.\n",
      "Found 70 images belonging to 2 classes.\n",
      "[Augmented Generators]\n",
      "Found 248 images belonging to 2 classes.\n",
      "Found 144 images belonging to 2 classes.\n",
      "Found 70 images belonging to 2 classes.\n",
      "[23:02:07] Loaded all generators.\n",
      "[Total Info]\n",
      "Number of images: 924\n",
      "Size of images: 0.01MB\n",
      "[23:02:07] Data preperation completed!\n",
      "Time taken: 10.249313831329346 seconds.\n"
     ]
    }
   ],
   "source": [
    "# Implementation Dependant Globals\n",
    "REQUIRED_DIMENSIONS = (224, 224)\n",
    "TRAIN_BATCH_SIZE = 10\n",
    "VALIDATION_BATCH_SIZE = 10\n",
    "TEST_BATCH_SIZE = 70\n",
    "\n",
    "# Import dataset\n",
    "%run DataPreparation.ipynb "
   ]
  },
  {
   "cell_type": "markdown",
   "metadata": {},
   "source": [
    "#### Fetch & Download VGG16 model"
   ]
  },
  {
   "cell_type": "code",
   "execution_count": 3,
   "metadata": {
    "scrolled": true
   },
   "outputs": [
    {
     "name": "stdout",
     "output_type": "stream",
     "text": [
      "Model: \"vgg16\"\n",
      "_________________________________________________________________\n",
      "Layer (type)                 Output Shape              Param #   \n",
      "=================================================================\n",
      "input_1 (InputLayer)         [(None, 224, 224, 3)]     0         \n",
      "_________________________________________________________________\n",
      "block1_conv1 (Conv2D)        (None, 224, 224, 64)      1792      \n",
      "_________________________________________________________________\n",
      "block1_conv2 (Conv2D)        (None, 224, 224, 64)      36928     \n",
      "_________________________________________________________________\n",
      "block1_pool (MaxPooling2D)   (None, 112, 112, 64)      0         \n",
      "_________________________________________________________________\n",
      "block2_conv1 (Conv2D)        (None, 112, 112, 128)     73856     \n",
      "_________________________________________________________________\n",
      "block2_conv2 (Conv2D)        (None, 112, 112, 128)     147584    \n",
      "_________________________________________________________________\n",
      "block2_pool (MaxPooling2D)   (None, 56, 56, 128)       0         \n",
      "_________________________________________________________________\n",
      "block3_conv1 (Conv2D)        (None, 56, 56, 256)       295168    \n",
      "_________________________________________________________________\n",
      "block3_conv2 (Conv2D)        (None, 56, 56, 256)       590080    \n",
      "_________________________________________________________________\n",
      "block3_conv3 (Conv2D)        (None, 56, 56, 256)       590080    \n",
      "_________________________________________________________________\n",
      "block3_pool (MaxPooling2D)   (None, 28, 28, 256)       0         \n",
      "_________________________________________________________________\n",
      "block4_conv1 (Conv2D)        (None, 28, 28, 512)       1180160   \n",
      "_________________________________________________________________\n",
      "block4_conv2 (Conv2D)        (None, 28, 28, 512)       2359808   \n",
      "_________________________________________________________________\n",
      "block4_conv3 (Conv2D)        (None, 28, 28, 512)       2359808   \n",
      "_________________________________________________________________\n",
      "block4_pool (MaxPooling2D)   (None, 14, 14, 512)       0         \n",
      "_________________________________________________________________\n",
      "block5_conv1 (Conv2D)        (None, 14, 14, 512)       2359808   \n",
      "_________________________________________________________________\n",
      "block5_conv2 (Conv2D)        (None, 14, 14, 512)       2359808   \n",
      "_________________________________________________________________\n",
      "block5_conv3 (Conv2D)        (None, 14, 14, 512)       2359808   \n",
      "_________________________________________________________________\n",
      "block5_pool (MaxPooling2D)   (None, 7, 7, 512)         0         \n",
      "=================================================================\n",
      "Total params: 14,714,688\n",
      "Trainable params: 14,714,688\n",
      "Non-trainable params: 0\n",
      "_________________________________________________________________\n"
     ]
    }
   ],
   "source": [
    "vgg16 = kr.applications.vgg16\n",
    "vgg16_model = vgg16.VGG16(\n",
    "    include_top=False, \n",
    "    weights='imagenet', \n",
    "    input_tensor=kr.layers.Input(shape=REQUIRED_DIMENSIONS+(3,))\n",
    ")\n",
    "vgg16_model.summary()"
   ]
  },
  {
   "cell_type": "markdown",
   "metadata": {},
   "source": [
    "#### Building & Compiling"
   ]
  },
  {
   "cell_type": "code",
   "execution_count": 4,
   "metadata": {},
   "outputs": [
    {
     "name": "stdout",
     "output_type": "stream",
     "text": [
      "Model: \"model\"\n",
      "_________________________________________________________________\n",
      "Layer (type)                 Output Shape              Param #   \n",
      "=================================================================\n",
      "input_1 (InputLayer)         [(None, 224, 224, 3)]     0         \n",
      "_________________________________________________________________\n",
      "block1_conv1 (Conv2D)        (None, 224, 224, 64)      1792      \n",
      "_________________________________________________________________\n",
      "block1_conv2 (Conv2D)        (None, 224, 224, 64)      36928     \n",
      "_________________________________________________________________\n",
      "block1_pool (MaxPooling2D)   (None, 112, 112, 64)      0         \n",
      "_________________________________________________________________\n",
      "block2_conv1 (Conv2D)        (None, 112, 112, 128)     73856     \n",
      "_________________________________________________________________\n",
      "block2_conv2 (Conv2D)        (None, 112, 112, 128)     147584    \n",
      "_________________________________________________________________\n",
      "block2_pool (MaxPooling2D)   (None, 56, 56, 128)       0         \n",
      "_________________________________________________________________\n",
      "block3_conv1 (Conv2D)        (None, 56, 56, 256)       295168    \n",
      "_________________________________________________________________\n",
      "block3_conv2 (Conv2D)        (None, 56, 56, 256)       590080    \n",
      "_________________________________________________________________\n",
      "block3_conv3 (Conv2D)        (None, 56, 56, 256)       590080    \n",
      "_________________________________________________________________\n",
      "block3_pool (MaxPooling2D)   (None, 28, 28, 256)       0         \n",
      "_________________________________________________________________\n",
      "block4_conv1 (Conv2D)        (None, 28, 28, 512)       1180160   \n",
      "_________________________________________________________________\n",
      "block4_conv2 (Conv2D)        (None, 28, 28, 512)       2359808   \n",
      "_________________________________________________________________\n",
      "block4_conv3 (Conv2D)        (None, 28, 28, 512)       2359808   \n",
      "_________________________________________________________________\n",
      "block4_pool (MaxPooling2D)   (None, 14, 14, 512)       0         \n",
      "_________________________________________________________________\n",
      "block5_conv1 (Conv2D)        (None, 14, 14, 512)       2359808   \n",
      "_________________________________________________________________\n",
      "block5_conv2 (Conv2D)        (None, 14, 14, 512)       2359808   \n",
      "_________________________________________________________________\n",
      "block5_conv3 (Conv2D)        (None, 14, 14, 512)       2359808   \n",
      "_________________________________________________________________\n",
      "block5_pool (MaxPooling2D)   (None, 7, 7, 512)         0         \n",
      "_________________________________________________________________\n",
      "flatten (Flatten)            (None, 25088)             0         \n",
      "_________________________________________________________________\n",
      "dense (Dense)                (None, 512)               12845568  \n",
      "_________________________________________________________________\n",
      "dropout (Dropout)            (None, 512)               0         \n",
      "_________________________________________________________________\n",
      "dense_1 (Dense)              (None, 2)                 1026      \n",
      "=================================================================\n",
      "Total params: 27,561,282\n",
      "Trainable params: 12,846,594\n",
      "Non-trainable params: 14,714,688\n",
      "_________________________________________________________________\n"
     ]
    }
   ],
   "source": [
    "# Ease of Access\n",
    "Model, Dropout, Flatten, Dense = kr.models.Model, kr.layers.Dropout, kr.layers.Flatten, kr.layers.Dense\n",
    "\n",
    "# Construct the Head Model\n",
    "head_model = vgg16_model.output\n",
    "head_model = Flatten(name=\"flatten\")(head_model)\n",
    "head_model = Dense(512, activation=\"relu\")(head_model)\n",
    "head_model = Dropout(0.5)(head_model)\n",
    "head_model = Dense(2, activation=\"softmax\")(head_model)\n",
    "\n",
    "# Place the head model on top of the base model (this will become the actual model we will train)\n",
    "model = Model(inputs=vgg16_model.input, outputs=head_model)\n",
    "\n",
    "# Freeze all the layers\n",
    "for layer in vgg16_model.layers[:]:\n",
    "    layer.trainable = False\n",
    "\n",
    "# Show a summary of the model. Check the number of trainable parameters\n",
    "model.summary()"
   ]
  },
  {
   "cell_type": "markdown",
   "metadata": {},
   "source": [
    "#### Warmup Training"
   ]
  },
  {
   "cell_type": "code",
   "execution_count": null,
   "metadata": {},
   "outputs": [
    {
     "name": "stdout",
     "output_type": "stream",
     "text": [
      "Epoch 1/2\n",
      "50/49 [==============================] - 32s 644ms/step - loss: 4.3048 - accuracy: 0.6774 - val_loss: 2.6688 - val_accuracy: 0.7887\n",
      "Epoch 2/2\n",
      "41/49 [=======================>......] - ETA: 3s - loss: 1.4288 - accuracy: 0.8873"
     ]
    }
   ],
   "source": [
    "# Compile Module\n",
    "model.compile(\n",
    "    loss='binary_crossentropy',\n",
    "    optimizer=kr.optimizers.RMSprop(lr=1e-4),\n",
    "    metrics=['accuracy']\n",
    ")\n",
    "\n",
    "# Train the head of the module (Our Layers)\n",
    "warmup_history = model.fit_generator(\n",
    "    train_set,\n",
    "    steps_per_epoch=train_set.samples/train_set.batch_size,\n",
    "    epochs=2,\n",
    "    validation_data=validation_set,\n",
    "    validation_steps=validation_set.samples/validation_set.batch_size,\n",
    "    verbose=1,\n",
    "    shuffle=True\n",
    ")\n",
    "\n",
    "warmup_history.plot_title = \"Warmup\""
   ]
  },
  {
   "cell_type": "code",
   "execution_count": null,
   "metadata": {},
   "outputs": [],
   "source": [
    "# Make predictions\n",
    "predictions = model.predict_generator(test_set, steps=test_set.samples/test_set.batch_size, verbose=1)\n",
    "normalised_predictions = np.argmax(predictions, axis=1)\n",
    "\n",
    "# Print out scikit report\n",
    "print(classification_report(test_set.classes, normalised_predictions, target_names=CLASSES))\n",
    "\n",
    "# Draw confusion matrix\n",
    "lib.plot_confusion_matrix(test_set.classes, normalised_predictions, CLASSES)"
   ]
  },
  {
   "cell_type": "markdown",
   "metadata": {},
   "source": [
    "#### Final Training"
   ]
  },
  {
   "cell_type": "code",
   "execution_count": null,
   "metadata": {},
   "outputs": [],
   "source": [
    "# Reset validaiton & train set generators\n",
    "train_set.reset()\n",
    "validation_set.reset()\n",
    "\n",
    "# Now that the head FC layers have been trained/initialized, lets\n",
    "# Unfreeze the final set of CONV layers and make them trainable\n",
    "for layer in vgg16_model.layers[15:]:\n",
    "\tlayer.trainable = True\n",
    "\n",
    "    \n",
    "# Recompile module for changes to take effect, now using SGD with very small learning rate\n",
    "model.compile(\n",
    "    loss=\"binary_crossentropy\", \n",
    "    optimizer=kr.optimizers.RMSprop(lr=1e-4), \n",
    "    metrics=[\"accuracy\"]\n",
    ")    \n",
    "\n",
    "# Train the whole module\n",
    "final_history = model.fit_generator(\n",
    "    train_set,\n",
    "    steps_per_epoch=train_set.samples/train_set.batch_size,\n",
    "    epochs=2,\n",
    "    validation_data=validation_set,\n",
    "    validation_steps=validation_set.samples/validation_set.batch_size,\n",
    "    verbose=1,\n",
    "    shuffle=True\n",
    ")\n",
    "\n",
    "final_history.plot_title = \"Final\""
   ]
  },
  {
   "cell_type": "code",
   "execution_count": null,
   "metadata": {},
   "outputs": [],
   "source": [
    "# Reset from previous predictions\n",
    "test_set.reset()\n",
    "\n",
    "# Make new predictions\n",
    "predictions = model.predict_generator(test_set, steps=test_set.samples/test_set.batch_size, verbose=1)\n",
    "normalised_predictions = np.argmax(predictions, axis=1)\n",
    "\n",
    "# Print out scikit report\n",
    "print(classification_report(test_set.classes, normalised_predictions, target_names=CLASSES))\n",
    "\n",
    "# Draw confusion matrix\n",
    "lib.plot_confusion_matrix(test_set.classes, normalised_predictions, CLASSES)"
   ]
  },
  {
   "cell_type": "markdown",
   "metadata": {},
   "source": [
    "#### Visualising Training History"
   ]
  },
  {
   "cell_type": "code",
   "execution_count": null,
   "metadata": {},
   "outputs": [],
   "source": [
    "global_history = [warmup_history, final_history]\n",
    "\n",
    "for history in global_history:\n",
    "    # summarize history for accuracy\n",
    "    plt.plot(history.history['accuracy'], label='accuracy')\n",
    "    plt.plot(history.history['val_accuracy'], label='val_accuracy')\n",
    "    plt.title(\"Accuracy - \" + history.plot_title)\n",
    "    plt.ylabel('Accuracy')\n",
    "    plt.xlabel('Epoch')\n",
    "    plt.legend(loc='upper left')\n",
    "    plt.show()\n",
    "    \n",
    "    # summarize history for loss\n",
    "    plt.plot(history.history['loss'], label='loss')\n",
    "    plt.plot(history.history['val_loss'], label='val_loss')\n",
    "    plt.title(\"Loss - \" + history.plot_title)\n",
    "    plt.ylabel('Loss')\n",
    "    plt.xlabel('Epoch')\n",
    "    plt.legend(loc='upper left')\n",
    "    plt.show()"
   ]
  },
  {
   "cell_type": "code",
   "execution_count": null,
   "metadata": {},
   "outputs": [],
   "source": [
    "model.save('app\\\\trained_models\\\\VGG16')"
   ]
  }
 ],
 "metadata": {
  "kernelspec": {
   "display_name": "IBC",
   "language": "python",
   "name": "icb"
  },
  "language_info": {
   "codemirror_mode": {
    "name": "ipython",
    "version": 3
   },
   "file_extension": ".py",
   "mimetype": "text/x-python",
   "name": "python",
   "nbconvert_exporter": "python",
   "pygments_lexer": "ipython3",
   "version": "3.7.5"
  }
 },
 "nbformat": 4,
 "nbformat_minor": 2
}
