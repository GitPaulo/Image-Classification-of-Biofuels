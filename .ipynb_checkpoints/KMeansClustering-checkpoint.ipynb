{
 "cells": [
  {
   "cell_type": "code",
   "execution_count": null,
   "metadata": {},
   "outputs": [],
   "source": [
    "from sklearn.cluster import KMeans\n",
    "from keras.datasets import mnist\n",
    "\n",
    "(x_train, y_train), (x_test, y_test) = mnist.load_data()\n",
    "x = np.concatenate((x_train, x_test))\n",
    "y = np.concatenate((y_train, y_test))\n",
    "x = x.reshape((x.shape[0], -1))\n",
    "x = np.divide(x, 255.)\n",
    "# 10 clusters\n",
    "n_clusters = len(np.unique(y))\n",
    "# Runs in parallel 4 CPUs\n",
    "kmeans = KMeans(n_clusters=n_clusters, n_init=20, n_jobs=4)\n",
    "# Train K-Means.\n",
    "y_pred_kmeans = kmeans.fit_predict(x)\n",
    "# Evaluate the K-Means clustering accuracy.\n",
    "metrics.acc(y, y_pred_kmeans)"
   ]
  }
 ],
 "metadata": {
  "kernelspec": {
   "display_name": "IBC",
   "language": "python",
   "name": "icb"
  },
  "language_info": {
   "codemirror_mode": {
    "name": "ipython",
    "version": 3
   },
   "file_extension": ".py",
   "mimetype": "text/x-python",
   "name": "python",
   "nbconvert_exporter": "python",
   "pygments_lexer": "ipython3",
   "version": "3.7.5"
  }
 },
 "nbformat": 4,
 "nbformat_minor": 2
}
