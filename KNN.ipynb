{
 "cells": [
  {
   "cell_type": "markdown",
   "metadata": {},
   "source": [
    "## K Nearest Neighbours for ICB"
   ]
  },
  {
   "cell_type": "code",
   "execution_count": 1,
   "metadata": {},
   "outputs": [
    {
     "name": "stdout",
     "output_type": "stream",
     "text": [
      "[18:56:14] Library functions loaded.\n"
     ]
    }
   ],
   "source": [
    "import lib\n",
    "\n",
    "from sklearn.neighbors import KNeighborsClassifier\n",
    "from sklearn.model_selection import train_test_split"
   ]
  },
  {
   "cell_type": "code",
   "execution_count": 2,
   "metadata": {
    "scrolled": true
   },
   "outputs": [
    {
     "name": "stdout",
     "output_type": "stream",
     "text": [
      "[18:56:15] Data preparation started.\n",
      "[18:56:15] Loaded custom functions.\n",
      "(SKIPPED) Found a non image file:  ./dataset/validation/non_biomass/metal282 - Shortcut.lnk\n",
      "[Non Processed Classifier Input Data]\n",
      "Raw pixels matrix: 135.83MB\n",
      "Raw features matrix: 1.85MB\n",
      "[18:56:24] Loaded raw congregates of images, features and labels.\n",
      "[Non Augmented Generators]\n",
      "Found 248 images belonging to 2 classes.\n",
      "Found 144 images belonging to 2 classes.\n",
      "Found 70 images belonging to 2 classes.\n",
      "[Augmented Generators]\n",
      "Found 248 images belonging to 2 classes.\n",
      "Found 70 images belonging to 2 classes.\n",
      "Found 144 images belonging to 2 classes.\n",
      "[18:56:25] Loaded all generators.\n",
      "[Total Info]\n",
      "Number of images: 924\n",
      "Size of images: 0.01MB\n",
      "[18:56:25] Data preperation completed!\n",
      "Time taken: 10.157891988754272 seconds.\n"
     ]
    }
   ],
   "source": [
    "# Implementation Dependant Globals\n",
    "REQUIRED_DIMENSIONS = (224, 224)\n",
    "# These affect only the generators, we don't use those for KNN, we use the raw congregrates.\n",
    "TRAIN_BATCH_SIZE, VALIDATION_BATCH_SIZE, TEST_BATCH_SIZE = 0, 0, 0\n",
    "\n",
    "# Import dataset\n",
    "%run DataPreparation.ipynb "
   ]
  },
  {
   "cell_type": "markdown",
   "metadata": {},
   "source": [
    "#### Data Partitioning & KNN Model Fitting"
   ]
  },
  {
   "cell_type": "code",
   "execution_count": 3,
   "metadata": {},
   "outputs": [],
   "source": [
    "# Partition the data into training and testing\n",
    "# 75% = training, 25% = testing\n",
    "TEST_SPLIT = 0.3\n",
    "SEED = 55\n",
    "\n",
    "(train_images, test_images, train_images_labels, test_images_labels) = train_test_split(\n",
    "    pixels, \n",
    "    pixels_labels, \n",
    "    test_size=TEST_SPLIT, \n",
    "    random_state=SEED\n",
    ")\n",
    "\n",
    "(train_features, test_features, train_features_labels, test_features_labels) = train_test_split(\n",
    "    features, \n",
    "    features_labels, \n",
    "    test_size=TEST_SPLIT, \n",
    "    random_state=SEED\n",
    ")"
   ]
  },
  {
   "cell_type": "markdown",
   "metadata": {},
   "source": [
    "#### Raw Pixel: Model Fiting & Accuracy Test"
   ]
  },
  {
   "cell_type": "code",
   "execution_count": 4,
   "metadata": {},
   "outputs": [
    {
     "name": "stdout",
     "output_type": "stream",
     "text": [
      "Raw pixel accuracy: 73.74%\n"
     ]
    }
   ],
   "source": [
    "# Train and evaluate a k-NN classifer on the raw pixel intensities\n",
    "model = KNeighborsClassifier(\n",
    "    n_neighbors=1,\n",
    ")\n",
    "\n",
    "model.fit(train_images, train_images_labels)\n",
    "\n",
    "acc = model.score(test_images, test_images_labels)\n",
    "print(\"Raw pixel accuracy: {:.2f}%\".format(acc * 100))"
   ]
  },
  {
   "cell_type": "code",
   "execution_count": 5,
   "metadata": {},
   "outputs": [],
   "source": [
    "lib.saveTrainedModel(model, \"KNN\", \"knn_rawpixel_classifier\")"
   ]
  },
  {
   "cell_type": "markdown",
   "metadata": {},
   "source": [
    "#### Color Histogram: Model Fiting & Accuracy Test"
   ]
  },
  {
   "cell_type": "code",
   "execution_count": 6,
   "metadata": {},
   "outputs": [
    {
     "name": "stdout",
     "output_type": "stream",
     "text": [
      "Color histogram accuracy: 96.40%\n"
     ]
    }
   ],
   "source": [
    "# Train and evaluate a k-NN classifer on the histogram representations\n",
    "model = KNeighborsClassifier(\n",
    "    n_neighbors=1,\n",
    ")\n",
    "\n",
    "model.fit(train_features, train_features_labels)\n",
    "\n",
    "acc = model.score(test_features, test_features_labels)\n",
    "print(\"Color histogram accuracy: {:.2f}%\".format(acc * 100))"
   ]
  },
  {
   "cell_type": "code",
   "execution_count": 7,
   "metadata": {},
   "outputs": [],
   "source": [
    "lib.saveTrainedModel(model, \"KNN\", \"knn_histogram_classifier\")"
   ]
  }
 ],
 "metadata": {
  "kernelspec": {
   "display_name": "IBC",
   "language": "python",
   "name": "icb"
  },
  "language_info": {
   "codemirror_mode": {
    "name": "ipython",
    "version": 3
   },
   "file_extension": ".py",
   "mimetype": "text/x-python",
   "name": "python",
   "nbconvert_exporter": "python",
   "pygments_lexer": "ipython3",
   "version": "3.7.5"
  }
 },
 "nbformat": 4,
 "nbformat_minor": 2
}
