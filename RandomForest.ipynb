{
 "cells": [
  {
   "cell_type": "markdown",
   "metadata": {},
   "source": [
    "## Random Forest for ICB"
   ]
  },
  {
   "cell_type": "code",
   "execution_count": 1,
   "metadata": {},
   "outputs": [],
   "source": [
    "import os \n",
    "import pandas as pd\n",
    "import numpy as np\n",
    "import sklearn\n",
    "\n",
    "from sklearn.model_selection import StratifiedKFold\n",
    "from sklearn.ensemble import RandomForestClassifier\n",
    "from sklearn.model_selection import GridSearchCV\n",
    "from sklearn.cluster import KMeans\n",
    "from sklearn.model_selection import train_test_split"
   ]
  },
  {
   "cell_type": "code",
   "execution_count": 2,
   "metadata": {},
   "outputs": [
    {
     "name": "stdout",
     "output_type": "stream",
     "text": [
      "[14:15:53] Library functions loaded.\n",
      "[14:15:56] Data preparation started.\n",
      "[14:15:56] Loaded custom functions.\n",
      "(SKIPPED) Found a non image file:  ./dataset/validation/non_biomass/metal282 - Shortcut.lnk\n",
      "[Non Augmented Images]\n",
      "\t - Number of images in total: 462\n",
      "\t - Raw pixels matrix: 67.91MB\n",
      "\t - Raw features matrix: 0.92MB\n",
      "[Augmented Images]\n",
      "\t - Number of images in total: 462\n",
      "\t - Raw pixels matrix: 67.91MB\n",
      "\t - Raw features matrix: 0.92MB\n",
      "[14:16:05] Loaded raw congregates of images, features and labels.\n",
      "[Non Augmented Generators]\n",
      "Found 248 images belonging to 2 classes.\n",
      "Found 144 images belonging to 2 classes.\n",
      "Found 70 images belonging to 2 classes.\n",
      "[Augmented Generators]\n",
      "Found 248 images belonging to 2 classes.\n",
      "Found 70 images belonging to 2 classes.\n",
      "Found 144 images belonging to 2 classes.\n",
      "[14:16:06] Loaded all generators.\n",
      "[14:16:06] Data preperation completed!\n",
      "Time taken: 10.243054389953613 seconds.\n"
     ]
    }
   ],
   "source": [
    "# Implementation Dependant Globals\n",
    "REQUIRED_DIMENSIONS = (224, 224)\n",
    "# These affect only the generators, we don't use those for KNN, we use the raw congregrates.\n",
    "TRAIN_BATCH_SIZE, VALIDATION_BATCH_SIZE, TEST_BATCH_SIZE, N_AUG_VS_TEST = 0, 0, 0, 0\n",
    "\n",
    "# Import dataset\n",
    "%run DataPreparation.ipynb "
   ]
  },
  {
   "cell_type": "markdown",
   "metadata": {},
   "source": [
    "#### Join Congregate Data"
   ]
  },
  {
   "cell_type": "code",
   "execution_count": 3,
   "metadata": {},
   "outputs": [],
   "source": [
    "# We want to use both augmented dataset and non augmented\n",
    "# Thus, we join the image data and feature data.\n",
    "total_rawPixels, total_rawPixelLabels = lib.shuffleJoinRawDatasets(\n",
    "    rawPixels, Labels, \n",
    "    augmented_rawPixels, augmented_Labels\n",
    ")"
   ]
  },
  {
   "cell_type": "markdown",
   "metadata": {},
   "source": [
    "#### Parition Congregate Data"
   ]
  },
  {
   "cell_type": "code",
   "execution_count": 4,
   "metadata": {},
   "outputs": [],
   "source": [
    "# Partition the data into training and testing\n",
    "# 75% = training, 25% = testing\n",
    "TEST_SPLIT = 0.3\n",
    "SEED = 55\n",
    "\n",
    "(trainImages, testImages, trainImagesLabels, testImagesLabels) = train_test_split(\n",
    "    total_rawPixels, \n",
    "    total_rawPixelLabels, \n",
    "    test_size=TEST_SPLIT, \n",
    "    random_state=SEED\n",
    ")"
   ]
  },
  {
   "cell_type": "markdown",
   "metadata": {},
   "source": [
    "#### Fit Model"
   ]
  },
  {
   "cell_type": "code",
   "execution_count": 6,
   "metadata": {},
   "outputs": [
    {
     "name": "stderr",
     "output_type": "stream",
     "text": [
      "C:\\ProgramData\\Anaconda3\\envs\\ICB\\lib\\site-packages\\sklearn\\ensemble\\forest.py:245: FutureWarning: The default value of n_estimators will change from 10 in version 0.20 to 100 in 0.22.\n",
      "  \"10 in version 0.20 to 100 in 0.22.\", FutureWarning)\n"
     ]
    },
    {
     "data": {
      "text/plain": [
       "RandomForestClassifier(bootstrap=True, class_weight=None, criterion='gini',\n",
       "                       max_depth=None, max_features='auto', max_leaf_nodes=None,\n",
       "                       min_impurity_decrease=0.0, min_impurity_split=None,\n",
       "                       min_samples_leaf=1, min_samples_split=2,\n",
       "                       min_weight_fraction_leaf=0.0, n_estimators=10,\n",
       "                       n_jobs=None, oob_score=False, random_state=None,\n",
       "                       verbose=0, warm_start=False)"
      ]
     },
     "execution_count": 6,
     "metadata": {},
     "output_type": "execute_result"
    }
   ],
   "source": [
    "model = RandomForestClassifier()\n",
    "\n",
    "# Fit model\n",
    "model.fit(trainImages, trainImagesLabels)"
   ]
  },
  {
   "cell_type": "markdown",
   "metadata": {},
   "source": [
    "#### Make Predictions on Test Set"
   ]
  },
  {
   "cell_type": "code",
   "execution_count": 8,
   "metadata": {},
   "outputs": [
    {
     "name": "stdout",
     "output_type": "stream",
     "text": [
      "Test data metrics:\n",
      "              precision    recall  f1-score   support\n",
      "\n",
      "     biomass       0.81      0.85      0.83       151\n",
      " non_biomass       0.82      0.76      0.79       127\n",
      "\n",
      "    accuracy                           0.81       278\n",
      "   macro avg       0.81      0.81      0.81       278\n",
      "weighted avg       0.81      0.81      0.81       278\n",
      "\n"
     ]
    }
   ],
   "source": [
    "# Predictions for test\n",
    "predictions = model.predict(testImages)\n",
    "\n",
    "print(\"Test data metrics:\")\n",
    "print(sklearn.metrics.classification_report(y_true=testImagesLabels, y_pred=predictions))"
   ]
  }
 ],
 "metadata": {
  "kernelspec": {
   "display_name": "IBC",
   "language": "python",
   "name": "icb"
  },
  "language_info": {
   "codemirror_mode": {
    "name": "ipython",
    "version": 3
   },
   "file_extension": ".py",
   "mimetype": "text/x-python",
   "name": "python",
   "nbconvert_exporter": "python",
   "pygments_lexer": "ipython3",
   "version": "3.7.5"
  }
 },
 "nbformat": 4,
 "nbformat_minor": 2
}
