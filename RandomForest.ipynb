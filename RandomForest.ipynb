{
 "cells": [
  {
   "cell_type": "markdown",
   "metadata": {},
   "source": [
    "## Random Forest for ICB"
   ]
  },
  {
   "cell_type": "code",
   "execution_count": 6,
   "metadata": {},
   "outputs": [],
   "source": [
    "import os \n",
    "import pandas as pd\n",
    "import numpy as np\n",
    "import sklearn\n",
    "from sklearn.model_selection import StratifiedKFold\n",
    "from sklearn.ensemble import RandomForestClassifier\n",
    "from sklearn.model_selection import GridSearchCV\n",
    "from sklearn.cluster import KMeans\n",
    "from sklearn.model_selection import train_test_split"
   ]
  },
  {
   "cell_type": "code",
   "execution_count": 7,
   "metadata": {},
   "outputs": [
    {
     "name": "stdout",
     "output_type": "stream",
     "text": [
      "[15:25:47] Data preparation started.\n",
      "[15:25:47] Loaded custom functions.\n",
      "(SKIPPED) Found a non image file:  ./dataset/validation/non_biomass/metal282 - Shortcut.lnk\n",
      "Number of images in total: 462\n",
      "Raw pixels matrix: 67.91MB\n",
      "Raw features matrix: 0.92MB\n",
      "[15:25:53] Loaded raw congregates of images, features and labels.\n",
      "Found 248 images belonging to 2 classes.\n",
      "Found 144 images belonging to 2 classes.\n",
      "Found 70 images belonging to 2 classes.\n",
      "Found 248 images belonging to 2 classes.\n",
      "[15:25:53] Loaded all generators.\n",
      "[15:25:53] Displaying first 0 batches of the augmented_train_set VS train_set:\n",
      "[15:25:53] Data preperation completed!\n",
      "Time taken: 5.885310173034668 seconds.\n"
     ]
    }
   ],
   "source": [
    "# Implementation Dependant Globals\n",
    "REQUIRED_DIMENSIONS = (224, 224)\n",
    "# These affect only the generators, we don't use those for KNN, we use the raw congregrates.\n",
    "TRAIN_BATCH_SIZE, VALIDATION_BATCH_SIZE, TEST_BATCH_SIZE, N_AUG_VS_TEST = 0, 0, 0, 0\n",
    "\n",
    "# Import dataset\n",
    "%run DataPreparation.ipynb "
   ]
  },
  {
   "cell_type": "markdown",
   "metadata": {},
   "source": [
    "#### Parition Congregate Data"
   ]
  },
  {
   "cell_type": "code",
   "execution_count": 14,
   "metadata": {},
   "outputs": [],
   "source": [
    "# Partition the data into training and testing splits, using 75%\n",
    "# of the data for training and the remaining 25% for testing\n",
    "(trainRI, testRI, trainRL, testRL) = train_test_split(\n",
    "\trawImages, rawLabels, test_size=0.25, random_state=42)"
   ]
  },
  {
   "cell_type": "markdown",
   "metadata": {},
   "source": [
    "#### Fit Model"
   ]
  },
  {
   "cell_type": "code",
   "execution_count": null,
   "metadata": {},
   "outputs": [],
   "source": [
    "model = RandomForestClassifier()\n",
    "\n",
    "# Fit model\n",
    "model.fit(trainRI, trainRL)"
   ]
  },
  {
   "cell_type": "markdown",
   "metadata": {},
   "source": [
    "#### Make Predictions on Test Set"
   ]
  },
  {
   "cell_type": "code",
   "execution_count": 16,
   "metadata": {},
   "outputs": [
    {
     "name": "stdout",
     "output_type": "stream",
     "text": [
      "Test data metrics:\n",
      "              precision    recall  f1-score   support\n",
      "\n",
      "     biomass       0.74      0.90      0.81        61\n",
      " non_biomass       0.86      0.65      0.74        55\n",
      "\n",
      "    accuracy                           0.78       116\n",
      "   macro avg       0.80      0.78      0.78       116\n",
      "weighted avg       0.80      0.78      0.78       116\n",
      "\n"
     ]
    }
   ],
   "source": [
    "# Predictions for test\n",
    "predictions = model.predict(testRI)\n",
    "\n",
    "print(\"Test data metrics:\")\n",
    "print(sklearn.metrics.classification_report(y_true=testRL, y_pred=predictions))"
   ]
  }
 ],
 "metadata": {
  "kernelspec": {
   "display_name": "IBC",
   "language": "python",
   "name": "icb"
  },
  "language_info": {
   "codemirror_mode": {
    "name": "ipython",
    "version": 3
   },
   "file_extension": ".py",
   "mimetype": "text/x-python",
   "name": "python",
   "nbconvert_exporter": "python",
   "pygments_lexer": "ipython3",
   "version": "3.7.5"
  }
 },
 "nbformat": 4,
 "nbformat_minor": 2
}
